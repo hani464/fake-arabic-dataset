{
 "cells": [
  {
   "cell_type": "code",
   "execution_count": 4,
   "metadata": {},
   "outputs": [],
   "source": [
    "from bs4 import BeautifulSoup\n",
    "import requests\n",
    "import csv\n",
    "base_url = 'https://fatabyyano.net'\n",
    "urls = [base_url] + [f'{base_url}/page/{i}/' for i in range(2, 178)]\n",
    "\n",
    "\n",
    "\n",
    "def scrape_page(url):\n",
    "    \"\"\"Scrapes a single page and extracts news details.\"\"\"\n",
    "    page = requests.get(url)\n",
    "    src = page.content\n",
    "    soup = BeautifulSoup(src, 'lxml')\n",
    "    news_details = []\n",
    "    newsCards = soup.find_all(\"div\", {'class': 'vc_col-sm-8 wpb_column vc_column_container'})\n",
    "    \n",
    "    for newsCard in newsCards:\n",
    "        all_news = newsCard.contents[0].find_all(\"article\")\n",
    "        fake_keywords = [\"مضلل\", \"زائف\", \"زائف جزئي\"]\n",
    "        for news in all_news:\n",
    "            title_news = news.find('h2').text.strip()\n",
    "            time_news = news.find('time').text.strip()\n",
    "            span_news = news.find('span').text.strip()\n",
    "\n",
    "        classification = \"fake\" if any(keyword in span_news for keyword in fake_keywords) else \"real\"\n",
    "\n",
    "        news_details.append({\n",
    "            \"title\": title_news,\n",
    "            \"time\": time_news,\n",
    "            \"lable\": classification\n",
    "           \n",
    "        })\n",
    "    \n",
    "    return news_details\n",
    "all_news_details = []\n",
    "for url in urls:\n",
    "    all_news_details.extend(scrape_page(url))"
   ]
  },
  {
   "cell_type": "code",
   "execution_count": 5,
   "metadata": {},
   "outputs": [
    {
     "name": "stdout",
     "output_type": "stream",
     "text": [
      "Data saved to /hp/Desktop/data2.csv\n"
     ]
    }
   ],
   "source": [
    "import csv\n",
    "\n",
    "# Define the file path\n",
    "file_path = '/hp/Desktop/data2.csv'  \n",
    "\n",
    "# Open the file for writing\n",
    "try:\n",
    "    with open(file_path, 'w', newline='', encoding='utf-8') as output_file:\n",
    "        keys = all_news_details[0].keys()\n",
    "        dict_writer = csv.DictWriter(output_file, fieldnames=keys)\n",
    "        dict_writer.writeheader()\n",
    "        dict_writer.writerows(all_news_details)\n",
    "    print(f\"Data saved to {file_path}\")\n",
    "except Exception as e:\n",
    "    print(f\"An error occurred: {e}\")"
   ]
  }
 ],
 "metadata": {
  "kernelspec": {
   "display_name": "base",
   "language": "python",
   "name": "python3"
  },
  "language_info": {
   "codemirror_mode": {
    "name": "ipython",
    "version": 3
   },
   "file_extension": ".py",
   "mimetype": "text/x-python",
   "name": "python",
   "nbconvert_exporter": "python",
   "pygments_lexer": "ipython3",
   "version": "3.8.8"
  }
 },
 "nbformat": 4,
 "nbformat_minor": 2
}
